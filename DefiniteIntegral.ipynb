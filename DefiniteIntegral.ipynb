{
 "cells": [
  {
   "cell_type": "markdown",
   "metadata": {},
   "source": [
    "# MONTE CARLO ESTIMATON FOR DEFINITE INTEGRATION\n"
   ]
  },
  {
   "cell_type": "code",
   "execution_count": 4,
   "metadata": {},
   "outputs": [
    {
     "name": "stdout",
     "output_type": "stream",
     "text": [
      "The definite integral of sin(x) from 0 to 3.141592653589793 is:\n",
      "2.010181371796676\n"
     ]
    },
    {
     "data": {
      "image/png": "[encoded data removed]",
      "text/plain": [
       "<Figure size 432x288 with 1 Axes>"
      ]
     },
     "metadata": {
      "needs_background": "light"
     },
     "output_type": "display_data"
    }
   ],
   "source": [
    "%matplotlib inline\n",
    "from scipy import random\n",
    "import numpy as np\n",
    "import matplotlib.pyplot as plt\n",
    "\n",
    "#MONTE CARLO ESTIMATON FOR DEFINITE INTEGRAL\n",
    "\n",
    "#Limit of integration\n",
    "a = 0\n",
    "b = np.pi\n",
    "\n",
    "#Succession of random Variable\n",
    "N = 1000 #number of random variable/point\n",
    "xrand = random.uniform(a,b, N)\n",
    "\n",
    "#Function to integrate\n",
    "funcToPrint = \"sin(x)\"\n",
    "def func(x):\n",
    "    return np.sin(x)\n",
    "\n",
    "#Evaluate the function on our random point\n",
    "integral = 0.0\n",
    "\n",
    "for i in range(N):\n",
    "    integral += func(xrand[i])\n",
    "\n",
    "#Get the result!\n",
    "result = (b-a)/float(N)*integral\n",
    "print(\"The definite integral of \"+funcToPrint+\" from \"+str(a)+\" to \"+str(b)+\" is:\")\n",
    "print(str(result))\n",
    "\n",
    "#Ok, if we repeat over and over again, we never obtain the same result, but...\n",
    "#...for N large, every area we calculate is sufficiently close to the real integral.\n",
    "#That's  becouse, for the law of real number, the avarege of the succession (the result defined at line 27)\n",
    "#converge to the definite integral we want to calculate.\n",
    "\n",
    "#Now repeat the calculus of area many times and print the distribuition of our result\n",
    "\n",
    "areas = []\n",
    "\n",
    "for i in range(10000):\n",
    "\n",
    "    xrand = random.uniform(a,b, N)\n",
    "\n",
    "    integral = 0.0\n",
    "\n",
    "    for i in range(N):\n",
    "        integral += func(xrand[i])\n",
    "\n",
    "    result = (b-a)/float(N)*integral\n",
    "    areas.append(result)\n",
    "\n",
    "#Plot distribuition. It Should look like a Gaussian\n",
    "plt.title(\"Distribuition of areas calculated:\")\n",
    "plt.hist(areas, bins=30, ec = 'black')\n",
    "plt.xlabel(\"Areas\")\n",
    "plt.show()"
   ]
  }
 ],
 "metadata": {
  "kernelspec": {
   "display_name": "Python 3",
   "language": "python",
   "name": "python3"
  },
  "language_info": {
   "codemirror_mode": {
    "name": "ipython",
    "version": 3
   },
   "file_extension": ".py",
   "mimetype": "text/x-python",
   "name": "python",
   "nbconvert_exporter": "python",
   "pygments_lexer": "ipython3",
   "version": "3.7.0"
  }
 },
 "nbformat": 4,
 "nbformat_minor": 2
}
